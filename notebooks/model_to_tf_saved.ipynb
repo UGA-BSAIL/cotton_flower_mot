{
 "cells": [
  {
   "cell_type": "code",
   "execution_count": 1,
   "id": "cd5ab3e7-fbf7-4200-ae80-fbe8adc7fd8e",
   "metadata": {
    "tags": []
   },
   "outputs": [],
   "source": [
    "import os\n",
    "\n",
    "# Run in the repository base directory.\n",
    "os.chdir(\"/home/daniel/git/cotton_flower_mot\")"
   ]
  },
  {
   "cell_type": "code",
   "execution_count": 2,
   "id": "6becfa5c-8fb6-4729-a16f-cd64cfc05bb0",
   "metadata": {},
   "outputs": [],
   "source": [
    "from cotton_flower_mot.pipelines.model_training.layers import CUSTOM_LAYERS\n",
    "from kedro.extras.datasets.tensorflow import TensorFlowModelDataset\n",
    "\n",
    "# Set up custom layers.\n",
    "if \"custom_objects\" not in TensorFlowModelDataset.DEFAULT_LOAD_ARGS:\n",
    "    TensorFlowModelDataset.DEFAULT_LOAD_ARGS[\"custom_objects\"] = {}\n",
    "TensorFlowModelDataset.DEFAULT_LOAD_ARGS[\"custom_objects\"].update(\n",
    "    CUSTOM_LAYERS\n",
    ")"
   ]
  },
  {
   "cell_type": "code",
   "execution_count": 3,
   "id": "9c9e3a8b-9fe8-4d2d-b45c-eb3d5f285dee",
   "metadata": {
    "tags": []
   },
   "outputs": [
    {
     "name": "stdout",
     "output_type": "stream",
     "text": [
      "2024-03-05 16:45:28,384 - kedro.ipython - INFO - Resolved project path as: /home/daniel/git/cotton_flower_mot.\n",
      "To set a different path, run '%reload_kedro <project_root>'\n",
      "2024-03-05 16:45:28,390 - py.warnings - WARNING - /home/daniel/git/cotton_flower_mot/.venv/lib/python3.10/site-packages/kedro/framework/startup.py:98: DeprecationWarning: project_version in pyproject.toml is deprecated, use kedro_init_version instead\n",
      "  warnings.warn(\n",
      "\n",
      "2024-03-05 16:45:28,634 - kedro.io.core - WARNING - 'version' attribute removed from data set configuration since it is a reserved word and cannot be directly specified\n",
      "2024-03-05 16:45:28,635 - kedro.io.core - WARNING - 'version' attribute removed from data set configuration since it is a reserved word and cannot be directly specified\n",
      "2024-03-05 16:45:28,635 - kedro.io.core - WARNING - 'version' attribute removed from data set configuration since it is a reserved word and cannot be directly specified\n",
      "2024-03-05 16:45:28,636 - kedro.io.core - WARNING - 'version' attribute removed from data set configuration since it is a reserved word and cannot be directly specified\n",
      "2024-03-05 16:45:28,654 - kedro.ipython - INFO - Kedro project Cotton Flower MOT\n",
      "2024-03-05 16:45:28,655 - kedro.ipython - INFO - Defined global variable 'context', 'session', 'catalog' and 'pipelines'\n"
     ]
    }
   ],
   "source": [
    "%reload_kedro"
   ]
  },
  {
   "cell_type": "code",
   "execution_count": 4,
   "id": "a6bce359-ce99-47d1-ba9b-a9c69aa837b7",
   "metadata": {
    "tags": []
   },
   "outputs": [
    {
     "name": "stdout",
     "output_type": "stream",
     "text": [
      "2024-03-05 16:45:30,160 - py.warnings - WARNING - /home/daniel/git/cotton_flower_mot/.venv/lib/python3.10/site-packages/seaborn/rcmod.py:82: DeprecationWarning: distutils Version classes are deprecated. Use packaging.version instead.\n",
      "  if LooseVersion(mpl.__version__) >= \"3.0\":\n",
      "\n",
      "2024-03-05 16:45:30,161 - py.warnings - WARNING - /home/daniel/git/cotton_flower_mot/.venv/lib/python3.10/site-packages/setuptools/_distutils/version.py:345: DeprecationWarning: distutils Version classes are deprecated. Use packaging.version instead.\n",
      "  other = LooseVersion(other)\n",
      "\n",
      "2024-03-05 16:45:30,205 - py.warnings - WARNING - /home/daniel/git/cotton_flower_mot/.venv/lib/python3.10/site-packages/seaborn/cm.py:1582: MatplotlibDeprecationWarning: The register_cmap function was deprecated in Matplotlib 3.7 and will be removed two minor releases later. Use ``matplotlib.colormaps.register(name)`` instead.\n",
      "  mpl_cm.register_cmap(_name, _cmap)\n",
      "\n",
      "2024-03-05 16:45:30,205 - py.warnings - WARNING - /home/daniel/git/cotton_flower_mot/.venv/lib/python3.10/site-packages/seaborn/cm.py:1583: MatplotlibDeprecationWarning: The register_cmap function was deprecated in Matplotlib 3.7 and will be removed two minor releases later. Use ``matplotlib.colormaps.register(name)`` instead.\n",
      "  mpl_cm.register_cmap(_name + \"_r\", _cmap_r)\n",
      "\n",
      "2024-03-05 16:45:30,207 - py.warnings - WARNING - /home/daniel/git/cotton_flower_mot/.venv/lib/python3.10/site-packages/seaborn/rcmod.py:400: DeprecationWarning: distutils Version classes are deprecated. Use packaging.version instead.\n",
      "  if LooseVersion(mpl.__version__) >= \"3.0\":\n",
      "\n",
      "2024-03-05 16:45:30,208 - py.warnings - WARNING - /home/daniel/git/cotton_flower_mot/.venv/lib/python3.10/site-packages/setuptools/_distutils/version.py:345: DeprecationWarning: distutils Version classes are deprecated. Use packaging.version instead.\n",
      "  other = LooseVersion(other)\n",
      "\n",
      "2024-03-05 16:45:30,252 - py.warnings - WARNING - /home/daniel/git/cotton_flower_mot/.venv/lib/python3.10/site-packages/kedro/pipeline/node.py:185: UserWarning: The node producing outputs '['annotations_mot_169_ex']' is made from a 'partial' function. Partial functions do not have a '__name__' attribute: consider using 'functools.update_wrapper' for better log messages.\n",
      "  warn(\n",
      "\n",
      "2024-03-05 16:45:30,253 - py.warnings - WARNING - /home/daniel/git/cotton_flower_mot/.venv/lib/python3.10/site-packages/kedro/pipeline/node.py:185: UserWarning: The node producing outputs '['annotations_mot_170_ex']' is made from a 'partial' function. Partial functions do not have a '__name__' attribute: consider using 'functools.update_wrapper' for better log messages.\n",
      "  warn(\n",
      "\n",
      "2024-03-05 16:45:30,253 - py.warnings - WARNING - /home/daniel/git/cotton_flower_mot/.venv/lib/python3.10/site-packages/kedro/pipeline/node.py:185: UserWarning: The node producing outputs '['annotations_mot_172_ex']' is made from a 'partial' function. Partial functions do not have a '__name__' attribute: consider using 'functools.update_wrapper' for better log messages.\n",
      "  warn(\n",
      "\n",
      "2024-03-05 16:45:30,253 - py.warnings - WARNING - /home/daniel/git/cotton_flower_mot/.venv/lib/python3.10/site-packages/kedro/pipeline/node.py:185: UserWarning: The node producing outputs '['annotations_mot_173_ex']' is made from a 'partial' function. Partial functions do not have a '__name__' attribute: consider using 'functools.update_wrapper' for better log messages.\n",
      "  warn(\n",
      "\n",
      "2024-03-05 16:45:30,254 - py.warnings - WARNING - /home/daniel/git/cotton_flower_mot/.venv/lib/python3.10/site-packages/kedro/pipeline/node.py:185: UserWarning: The node producing outputs '['annotations_mot_174_ex']' is made from a 'partial' function. Partial functions do not have a '__name__' attribute: consider using 'functools.update_wrapper' for better log messages.\n",
      "  warn(\n",
      "\n",
      "2024-03-05 16:45:30,254 - py.warnings - WARNING - /home/daniel/git/cotton_flower_mot/.venv/lib/python3.10/site-packages/kedro/pipeline/node.py:185: UserWarning: The node producing outputs '['annotations_mot_175_ex']' is made from a 'partial' function. Partial functions do not have a '__name__' attribute: consider using 'functools.update_wrapper' for better log messages.\n",
      "  warn(\n",
      "\n",
      "2024-03-05 16:45:30,255 - py.warnings - WARNING - /home/daniel/git/cotton_flower_mot/.venv/lib/python3.10/site-packages/kedro/pipeline/node.py:185: UserWarning: The node producing outputs '['annotations_mot_190_ex']' is made from a 'partial' function. Partial functions do not have a '__name__' attribute: consider using 'functools.update_wrapper' for better log messages.\n",
      "  warn(\n",
      "\n",
      "2024-03-05 16:45:30,255 - py.warnings - WARNING - /home/daniel/git/cotton_flower_mot/.venv/lib/python3.10/site-packages/kedro/pipeline/node.py:185: UserWarning: The node producing outputs '['annotations_mot_191_ex']' is made from a 'partial' function. Partial functions do not have a '__name__' attribute: consider using 'functools.update_wrapper' for better log messages.\n",
      "  warn(\n",
      "\n",
      "2024-03-05 16:45:30,314 - py.warnings - WARNING - /home/daniel/git/cotton_flower_mot/.venv/lib/python3.10/site-packages/kedro/pipeline/node.py:185: UserWarning: The node producing outputs '['training_data_no_repeats']' is made from a 'partial' function. Partial functions do not have a '__name__' attribute: consider using 'functools.update_wrapper' for better log messages.\n",
      "  warn(\n",
      "\n",
      "2024-03-05 16:45:30,314 - py.warnings - WARNING - /home/daniel/git/cotton_flower_mot/.venv/lib/python3.10/site-packages/kedro/pipeline/node.py:185: UserWarning: The node producing outputs '['testing_data']' is made from a 'partial' function. Partial functions do not have a '__name__' attribute: consider using 'functools.update_wrapper' for better log messages.\n",
      "  warn(\n",
      "\n",
      "2024-03-05 16:45:30,315 - py.warnings - WARNING - /home/daniel/git/cotton_flower_mot/.venv/lib/python3.10/site-packages/kedro/pipeline/node.py:185: UserWarning: The node producing outputs '['validation_data']' is made from a 'partial' function. Partial functions do not have a '__name__' attribute: consider using 'functools.update_wrapper' for better log messages.\n",
      "  warn(\n",
      "\n",
      "2024-03-05 16:45:30,315 - py.warnings - WARNING - /home/daniel/git/cotton_flower_mot/.venv/lib/python3.10/site-packages/kedro/pipeline/node.py:185: UserWarning: The node producing outputs '['testing_data_clips']' is made from a 'partial' function. Partial functions do not have a '__name__' attribute: consider using 'functools.update_wrapper' for better log messages.\n",
      "  warn(\n",
      "\n",
      "2024-03-05 16:45:30,316 - py.warnings - WARNING - /home/daniel/git/cotton_flower_mot/.venv/lib/python3.10/site-packages/kedro/pipeline/node.py:185: UserWarning: The node producing outputs '['validation_data_clips']' is made from a 'partial' function. Partial functions do not have a '__name__' attribute: consider using 'functools.update_wrapper' for better log messages.\n",
      "  warn(\n",
      "\n",
      "2024-03-05 16:45:30,349 - py.warnings - WARNING - /home/daniel/git/cotton_flower_mot/.venv/lib/python3.10/site-packages/kedro/pipeline/node.py:185: UserWarning: The node producing outputs '['2022-08-23_ENGR_tracks']' is made from a 'partial' function. Partial functions do not have a '__name__' attribute: consider using 'functools.update_wrapper' for better log messages.\n",
      "  warn(\n",
      "\n",
      "2024-03-05 16:45:30,350 - py.warnings - WARNING - /home/daniel/git/cotton_flower_mot/.venv/lib/python3.10/site-packages/kedro/pipeline/node.py:185: UserWarning: The node producing outputs '['validation_mot_challenge_cvat']' is made from a 'partial' function. Partial functions do not have a '__name__' attribute: consider using 'functools.update_wrapper' for better log messages.\n",
      "  warn(\n",
      "\n",
      "2024-03-05 16:45:30,350 - py.warnings - WARNING - /home/daniel/git/cotton_flower_mot/.venv/lib/python3.10/site-packages/kedro/pipeline/node.py:185: UserWarning: The node producing outputs '['testing_mot_challenge_cvat']' is made from a 'partial' function. Partial functions do not have a '__name__' attribute: consider using 'functools.update_wrapper' for better log messages.\n",
      "  warn(\n",
      "\n",
      "2024-03-05 16:45:30,350 - py.warnings - WARNING - /home/daniel/git/cotton_flower_mot/.venv/lib/python3.10/site-packages/kedro/pipeline/node.py:185: UserWarning: The node producing outputs '['tracking_video_2022-08-23_ENGR']' is made from a 'partial' function. Partial functions do not have a '__name__' attribute: consider using 'functools.update_wrapper' for better log messages.\n",
      "  warn(\n",
      "\n",
      "2024-03-05 16:45:30,376 - kedro.io.data_catalog - INFO - Loading data from 'params:image_input_shape' (MemoryDataSet)...\n",
      "2024-03-05 16:45:30,376 - kedro.io.data_catalog - INFO - Loading data from 'params:detection_model_input_shape' (MemoryDataSet)...\n",
      "2024-03-05 16:45:30,377 - kedro.io.data_catalog - INFO - Loading data from 'params:rot_net_input_shape' (MemoryDataSet)...\n",
      "2024-03-05 16:45:30,377 - kedro.io.data_catalog - INFO - Loading data from 'params:colorization_input_shape' (MemoryDataSet)...\n",
      "2024-03-05 16:45:30,377 - kedro.io.data_catalog - INFO - Loading data from 'params:colorization_output_shape' (MemoryDataSet)...\n",
      "2024-03-05 16:45:30,377 - kedro.io.data_catalog - INFO - Loading data from 'params:frame_input_shape' (MemoryDataSet)...\n",
      "2024-03-05 16:45:30,377 - kedro.io.data_catalog - INFO - Loading data from 'params:num_appearance_features' (MemoryDataSet)...\n",
      "2024-03-05 16:45:30,378 - kedro.io.data_catalog - INFO - Loading data from 'params:num_node_features' (MemoryDataSet)...\n",
      "2024-03-05 16:45:30,378 - kedro.io.data_catalog - INFO - Loading data from 'params:num_edge_features' (MemoryDataSet)...\n",
      "2024-03-05 16:45:30,378 - kedro.io.data_catalog - INFO - Loading data from 'params:sinkhorn_lambda' (MemoryDataSet)...\n",
      "2024-03-05 16:45:30,378 - kedro.io.data_catalog - INFO - Loading data from 'params:num_reduction_stages' (MemoryDataSet)...\n",
      "2024-03-05 16:45:30,378 - kedro.io.data_catalog - INFO - Loading data from 'params:detection_sigma' (MemoryDataSet)...\n",
      "2024-03-05 16:45:30,378 - kedro.io.data_catalog - INFO - Loading data from 'params:nominal_detection_size' (MemoryDataSet)...\n",
      "2024-03-05 16:45:30,378 - kedro.io.data_catalog - INFO - Loading data from 'params:roi_pooling_size' (MemoryDataSet)...\n",
      "2024-03-05 16:45:30,379 - kedro.pipeline.node - INFO - Running node: make_model_config([params:image_input_shape,params:detection_model_input_shape,params:rot_net_input_shape,params:colorization_input_shape,params:colorization_output_shape,params:frame_input_shape,params:num_appearance_features,params:num_node_features,params:num_edge_features,params:sinkhorn_lambda,params:num_reduction_stages,params:detection_sigma,params:nominal_detection_size,params:roi_pooling_size]) -> [model_config]\n"
     ]
    },
    {
     "name": "stderr",
     "output_type": "stream",
     "text": [
      "2024-03-05 16:45:30.379 | DEBUG    | cotton_flower_mot.pipelines.model_config.nodes:make_model_config:23 - Creating model configuration: {'image_input_shape': [100, 100, 3], 'detection_model_input_shape': [540, 960, 3], 'rot_net_input_shape': [360, 360, 3], 'colorization_input_shape': [270, 480, 1], 'colorization_output_shape': [72, 120, 32], 'frame_input_shape': [1080, 1920, 3], 'num_appearance_features': 392, 'num_node_features': 128, 'num_edge_features': 128, 'sinkhorn_lambda': 5.0, 'num_reduction_stages': 2, 'detection_sigma': 3, 'nominal_detection_size': [0.052, 0.093], 'roi_pooling_size': 7}\n"
     ]
    },
    {
     "name": "stdout",
     "output_type": "stream",
     "text": [
      "2024-03-05 16:45:30,379 - kedro.io.data_catalog - INFO - Saving data to 'model_config' (MemoryDataSet)...\n",
      "2024-03-05 16:45:30,380 - kedro.runner.sequential_runner - INFO - Completed 1 out of 1 tasks\n",
      "2024-03-05 16:45:30,380 - kedro.runner.sequential_runner - INFO - Pipeline execution completed successfully.\n",
      "2024-03-05 16:45:30,380 - kedro.io.data_catalog - INFO - Loading data from 'model_config' (MemoryDataSet)...\n"
     ]
    }
   ],
   "source": [
    "from kedro.runner import SequentialRunner\n",
    "\n",
    "config_pipeline = pipelines[\"model_config\"]\n",
    "outputs = SequentialRunner().run(config_pipeline, catalog=catalog)\n",
    "model_config = outputs[\"model_config\"]"
   ]
  },
  {
   "cell_type": "code",
   "execution_count": 5,
   "id": "d30eb155-7837-403f-8e02-385e8fda99ac",
   "metadata": {
    "tags": []
   },
   "outputs": [
    {
     "name": "stdout",
     "output_type": "stream",
     "text": [
      "2024-03-05 16:45:32,959 - kedro.io.data_catalog - INFO - Loading data from 'best_model' (TensorFlowModelDataset)...\n",
      "2024-03-05 16:45:32,986 - tensorflow - WARNING - Mixed precision compatibility check (mixed_float16): WARNING\n",
      "The dtype policy mixed_float16 may run slowly because this machine does not have a GPU. Only Nvidia GPUs with compute capability of at least 7.0 run quickly with mixed_float16.\n",
      "If you will use compatible GPU(s) not attached to this host, e.g. by running a multi-worker model, you can ignore this warning. This message will only be logged once\n"
     ]
    },
    {
     "name": "stderr",
     "output_type": "stream",
     "text": [
      "2024-03-05 16:45:32.987 | INFO     | cotton_flower_mot.pipelines.model_training.layers.pretrained_tf:reload:36 - Loading TF model from data/06_models/best_with_features_32.\n",
      "2024-03-05 16:45:33.813 | DEBUG    | cotton_flower_mot.pipelines.model_training.layers.gnn:build:221 - Adding extra convolution to residual_cens_net to convert from 392 node channels to 128.\n"
     ]
    },
    {
     "name": "stdout",
     "output_type": "stream",
     "text": [
      "2024-03-05 16:45:33,867 - py.warnings - WARNING - /home/daniel/git/cotton_flower_mot/.venv/lib/python3.10/site-packages/keras/src/initializers/initializers.py:120: UserWarning: The initializer GlorotUniform is unseeded and being called multiple times, which will return identical values each time (even if the initializer is unseeded). Please update your code to provide a seed to the initializer, or avoid using the same initializer instance more than once.\n",
      "  warnings.warn(\n",
      "\n",
      "2024-03-05 16:45:35,281 - py.warnings - WARNING - /home/daniel/git/cotton_flower_mot/.venv/lib/python3.10/site-packages/keras/src/saving/legacy/hdf5_format.py:777: DeprecationWarning: `product` is deprecated as of NumPy 1.25.0, and will be removed in NumPy 2.0. Please use `prod` instead.\n",
      "  return [np.asarray(f[weight_name]) for weight_name in weight_names]\n",
      "\n",
      "2024-03-05 16:45:35,314 - kedro.io.data_catalog - INFO - Loading data from 'parameters' (MemoryDataSet)...\n"
     ]
    },
    {
     "name": "stderr",
     "output_type": "stream",
     "text": [
      "2024-03-05 16:45:35.315 | DEBUG    | cotton_flower_mot.pipelines.model_evaluation.inference:build_inference_model:135 - Building inference model...\n",
      "2024-03-05 16:45:35.318 | INFO     | cotton_flower_mot.pipelines.model_training.layers.pretrained_tf:reload:36 - Loading TF model from data/06_models/best_with_features_32.\n",
      "2024-03-05 16:45:35.842 | DEBUG    | cotton_flower_mot.pipelines.model_training.layers.gnn:build:221 - Adding extra convolution to residual_cens_net to convert from 392 node channels to 128.\n",
      "2024-03-05 16:45:36.757 | INFO     | cotton_flower_mot.pipelines.model_training.layers.pretrained_tf:reload:36 - Loading TF model from data/06_models/best_with_features_single_image.\n"
     ]
    }
   ],
   "source": [
    "from cotton_flower_mot.pipelines.model_evaluation.inference import build_inference_model\n",
    "\n",
    "\n",
    "raw_tracker_model = catalog.load(\"best_model\")\n",
    "parameters = catalog.load(\"parameters\")\n",
    "\n",
    "tracking_model, detection_model = build_inference_model(\n",
    "    training_model=raw_tracker_model,\n",
    "    config=model_config,\n",
    "    detector_model_path=parameters[\"inference_yolo_model_path\"],\n",
    "    nms_iou_threshold=parameters[\"nms_iou_threshold\"],\n",
    ")\n"
   ]
  },
  {
   "cell_type": "code",
   "execution_count": 6,
   "id": "dce574af-026d-4b6a-bfb2-8a0eac9a97a6",
   "metadata": {
    "tags": []
   },
   "outputs": [],
   "source": [
    "from typing import Tuple\n",
    "import tensorflow as tf\n",
    "\n",
    "def _ragged_to_normal_inputs(ragged_input: tf.RaggedTensor, name: str) -> Tuple[tf.keras.Input, tf.keras.Input, tf.RaggedTensor]:\n",
    "    # Converts a ragged input into normal inputs for the flat values and row lengths.\n",
    "    # Also returns the converted ragged tensor for feeding to the original input.\n",
    "    _, _, num_features = ragged_input.get_shape()\n",
    "    \n",
    "    flat_input = tf.keras.Input(batch_size=1, shape=(None, num_features), name=f\"{name}_flat\", dtype=ragged_input.dtype)\n",
    "    row_lengths_input = tf.keras.Input(batch_size=1, shape=(None,), name=f\"{name}_row_lengths\", dtype=tf.int32)\n",
    "    \n",
    "    # Internally, we have to convert back from the non-ragged form to the ragged form.\n",
    "    converted_to_ragged = tf.RaggedTensor.from_row_lengths(flat_input[0], row_lengths_input[0])\n",
    "    \n",
    "    return flat_input, row_lengths_input, converted_to_ragged"
   ]
  },
  {
   "cell_type": "code",
   "execution_count": 7,
   "id": "c6cb4bd6-aad2-4702-b715-00f0af40c574",
   "metadata": {
    "tags": []
   },
   "outputs": [],
   "source": [
    "import keras\n",
    "from cotton_flower_mot.schemas import ModelInputs\n",
    "\n",
    "# Remove ragged tensors from the input of the model.\n",
    "detection_appearance, tracklet_appearance, detection_geometry, tracklet_geometry = tracking_model.inputs\n",
    "detection_app_flat, detection_app_row_lengths, detection_app_ragged = _ragged_to_normal_inputs(detection_appearance, \"detection_appearance\")\n",
    "tracklet_app_flat, tracklet_app_row_lengths, tracklet_app_ragged = _ragged_to_normal_inputs(tracklet_appearance, \"tracklet_appearance\")\n",
    "detection_geo_flat, detection_geo_row_lengths, detection_geo_ragged = _ragged_to_normal_inputs(detection_geometry, \"detection_geometry\")\n",
    "tracklet_geo_flat, tracklet_geo_row_lengths, tracklet_geo_ragged = _ragged_to_normal_inputs(tracklet_geometry, \"tracklet_geometry\")\n",
    "\n",
    "sinkhorn, _ = tracking_model({\n",
    "    ModelInputs.DETECTION_APPEARANCE.value: detection_app_ragged,\n",
    "    ModelInputs.TRACKLET_APPEARANCE.value: tracklet_app_ragged,\n",
    "    ModelInputs.DETECTION_GEOMETRY.value: detection_geo_ragged,\n",
    "    ModelInputs.TRACKLET_GEOMETRY.value: tracklet_geo_ragged\n",
    "})\n",
    "\n",
    "# Remove ragged tensors from the outputs of the model.\n",
    "sinkhorn_padded = sinkhorn.to_tensor(name=\"sinkhorn\")\n",
    "row_lengths = sinkhorn.row_lengths(name=\"row_lengths\")\n",
    "row_lengths = tf.cast(row_lengths, tf.int32)\n",
    "\n",
    "tracking_model_no_ragged = keras.Model(inputs=[\n",
    "        detection_app_flat,\n",
    "        detection_app_row_lengths,\n",
    "        tracklet_app_flat,\n",
    "        tracklet_app_row_lengths,\n",
    "        detection_geo_flat,\n",
    "        detection_geo_row_lengths,\n",
    "        tracklet_geo_flat,\n",
    "        tracklet_geo_row_lengths\n",
    "    ],\n",
    "    outputs=dict(sinkhorn=sinkhorn_padded,\n",
    "                 row_lengths=row_lengths)\n",
    ")"
   ]
  },
  {
   "cell_type": "code",
   "execution_count": 8,
   "id": "e6c71d8e-1db7-4213-b54c-e664544fe153",
   "metadata": {
    "tags": []
   },
   "outputs": [],
   "source": [
    "boxes, appearance = detection_model.outputs\n",
    "\n",
    "boxes_padded = boxes.to_tensor(name=\"boxes\")\n",
    "appearance_padded = appearance.to_tensor(name=\"appearance\")\n",
    "num_boxes = boxes.row_lengths(name=\"num_boxes\")\n",
    "\n",
    "detection_model_no_ragged = keras.Model(inputs=detection_model.inputs, outputs=dict(boxes=boxes_padded, appearance=appearance_padded, num_boxes=num_boxes))"
   ]
  },
  {
   "cell_type": "code",
   "execution_count": 9,
   "id": "46481bb5-29b9-467c-a1d8-d3e666e15b36",
   "metadata": {
    "tags": []
   },
   "outputs": [
    {
     "name": "stdout",
     "output_type": "stream",
     "text": [
      "2024-03-05 16:45:47,950 - tensorflow - WARNING - Compiled the loaded model, but the compiled metrics have yet to be built. `model.compile_metrics` will be empty until you train or evaluate the model.\n",
      "2024-03-05 16:45:51,076 - tensorflow - INFO - Assets written to: tf_models_temp/detection_model/assets\n",
      "2024-03-05 16:45:51,464 - tensorflow - WARNING - Compiled the loaded model, but the compiled metrics have yet to be built. `model.compile_metrics` will be empty until you train or evaluate the model.\n",
      "2024-03-05 16:45:56,230 - tensorflow - INFO - Assets written to: tf_models_temp/tracking_model/assets\n"
     ]
    }
   ],
   "source": [
    "import keras\n",
    "\n",
    "keras.models.save_model(detection_model_no_ragged, \"tf_models_temp/detection_model\")\n",
    "keras.models.save_model(tracking_model_no_ragged, \"tf_models_temp/tracking_model\")"
   ]
  },
  {
   "cell_type": "code",
   "execution_count": null,
   "id": "9786e68d-0e5d-4cef-8264-438b8c67cf31",
   "metadata": {},
   "outputs": [],
   "source": []
  }
 ],
 "metadata": {
  "kernelspec": {
   "display_name": "Kedro (cotton_flower_mot)",
   "language": "python",
   "name": "kedro_cotton_flower_mot"
  },
  "language_info": {
   "codemirror_mode": {
    "name": "ipython",
    "version": 3
   },
   "file_extension": ".py",
   "mimetype": "text/x-python",
   "name": "python",
   "nbconvert_exporter": "python",
   "pygments_lexer": "ipython3",
   "version": "3.10.12"
  }
 },
 "nbformat": 4,
 "nbformat_minor": 5
}
