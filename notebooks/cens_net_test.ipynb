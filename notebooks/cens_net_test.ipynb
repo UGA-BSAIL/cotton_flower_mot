{
 "cells": [
  {
   "cell_type": "code",
   "execution_count": 7,
   "id": "c64c3214-c2ab-463a-840c-a14c8a70ec28",
   "metadata": {},
   "outputs": [],
   "source": [
    "from spektral import datasets\n",
    "\n",
    "# Load the citation data.\n",
    "cora = datasets.citation.Citation(\"cora\").read()[0]"
   ]
  },
  {
   "cell_type": "code",
   "execution_count": 22,
   "id": "20c82e46-ccf7-4c63-84c1-b3fdf9dfd33b",
   "metadata": {},
   "outputs": [
    {
     "data": {
      "text/plain": [
       "<tf.Tensor: shape=(2708, 2708), dtype=float32, numpy=\n",
       "array([[0., 0., 0., ..., 0., 0., 0.],\n",
       "       [0., 0., 1., ..., 0., 0., 0.],\n",
       "       [0., 1., 0., ..., 0., 0., 0.],\n",
       "       ...,\n",
       "       [0., 0., 0., ..., 0., 0., 0.],\n",
       "       [0., 0., 0., ..., 0., 0., 1.],\n",
       "       [0., 0., 0., ..., 0., 1., 0.]], dtype=float32)>"
      ]
     },
     "execution_count": 22,
     "metadata": {},
     "output_type": "execute_result"
    }
   ],
   "source": [
    "import tensorflow as tf\n",
    "\n",
    "# Convert citation graph into an undirected graph.\n",
    "adjacency = cora.a.todense()\n",
    "adjacency_upper = tf.linalg.band_part(adjacency, 0, -1)\n",
    "adjacency_lower = tf.linalg.band_part(adjacency, -1, 0)\n",
    "\n",
    "adjacency_upper_symmetric = adjacency_upper + tf.transpose(adjacency_upper)\n",
    "adjacency_lower_symmetric = adjacency_lower + tf.transpose(adjacency_lower)\n",
    "adjacency_undirected = tf.maximum(adjacency_upper_symmetric, adjacency_lower_symmetric)"
   ]
  },
  {
   "cell_type": "code",
   "execution_count": 29,
   "id": "da84277e-a31f-4ce6-8e89-24bb62f032ae",
   "metadata": {},
   "outputs": [
    {
     "data": {
      "text/plain": [
       "<tf.Tensor: shape=(), dtype=bool, numpy=True>"
      ]
     },
     "execution_count": 29,
     "metadata": {},
     "output_type": "execute_result"
    }
   ],
   "source": [
    "from cotton_flower_mot.pipelines.model_training.graph_utils import compute_pairwise_similarities\n",
    "from cotton_flower_mot.pipelines.model_training.similarity_utils import cosine_similarity\n",
    "\n",
    "# Compute edge features.\n",
    "connected_node_indices = tf.where(adjacency)\n",
    "# Get the corresponding node features for each edge.\n",
    "left_node_features = tf.gather(cora.x, connected_node_indices[:, 0])\n",
    "right_node_features = tf.gather(cora.x, connected_node_indices[:, 1])\n",
    "# Compute cosine similarities for each edge.\n",
    "cosine_similarities = cosine_similarity(left_node_features, right_node_features)\n",
    "\n",
    "# Compute edge direction vectors.\n",
    "edge_directions = tf.stack([adjacency_upper_symmetric, adjacency_lower_symmetric], axis=-1)\n",
    "edge_directions = tf.reshape(edge_directions, (-1, 2))\n",
    "tf.reduce_all(adjacency == adjacency_undirected)"
   ]
  },
  {
   "cell_type": "code",
   "execution_count": null,
   "id": "4d908ac0-865a-4c39-9612-12d1df82d89e",
   "metadata": {},
   "outputs": [],
   "source": []
  }
 ],
 "metadata": {
  "kernelspec": {
   "display_name": "Kedro (cotton_flower_mot)",
   "language": "python",
   "name": "kedro_cotton_flower_mot"
  },
  "language_info": {
   "codemirror_mode": {
    "name": "ipython",
    "version": 3
   },
   "file_extension": ".py",
   "mimetype": "text/x-python",
   "name": "python",
   "nbconvert_exporter": "python",
   "pygments_lexer": "ipython3",
   "version": "3.8.6"
  }
 },
 "nbformat": 4,
 "nbformat_minor": 5
}
